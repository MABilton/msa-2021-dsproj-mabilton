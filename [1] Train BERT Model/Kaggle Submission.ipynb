{
 "cells": [
  {
   "cell_type": "markdown",
   "source": [
    "# Kaggle Submission\r\n",
    "\r\n",
    "This notebook is simply a reproduction of the notebook I used to submit my trained BERT netowrk to the readability Kaggle competition. It managed to achieve a private score of 0.549, and a public score of 0.554 (for reference, the winning submission achieved a public score of 0.446).\r\n",
    "\r\n",
    "Since most of the code is only slightly modified from that shown in `BERT Model Training.ipynb`, my comments are a lot more sparse here."
   ],
   "metadata": {
    "papermill": {
     "duration": 0.013161,
     "end_time": "2021-08-31T05:07:24.880775",
     "exception": false,
     "start_time": "2021-08-31T05:07:24.867614",
     "status": "completed"
    },
    "tags": []
   }
  },
  {
   "cell_type": "markdown",
   "source": [
    "## Package Imports"
   ],
   "metadata": {
    "papermill": {
     "duration": 0.012725,
     "end_time": "2021-08-31T05:07:24.906348",
     "exception": false,
     "start_time": "2021-08-31T05:07:24.893623",
     "status": "completed"
    },
    "tags": []
   }
  },
  {
   "cell_type": "code",
   "execution_count": 1,
   "source": [
    "# PyTorch imports:\r\n",
    "import torch\r\n",
    "from torch.nn.utils.rnn import pad_sequence\r\n",
    "from torch.utils.data import DataLoader, Dataset, TensorDataset, SequentialSampler\r\n",
    "\r\n",
    "# HuggingFace imports:\r\n",
    "import transformers\r\n",
    "from transformers import DistilBertTokenizer, DistilBertForSequenceClassification\r\n",
    "\r\n",
    "# Data manipulation imports:\r\n",
    "import numpy as np\r\n",
    "import pandas as pd"
   ],
   "outputs": [],
   "metadata": {
    "execution": {
     "iopub.execute_input": "2021-08-31T05:07:24.935936Z",
     "iopub.status.busy": "2021-08-31T05:07:24.934783Z",
     "iopub.status.idle": "2021-08-31T05:07:33.673818Z",
     "shell.execute_reply": "2021-08-31T05:07:33.672988Z",
     "shell.execute_reply.started": "2021-08-31T05:06:17.902905Z"
    },
    "papermill": {
     "duration": 8.754921,
     "end_time": "2021-08-31T05:07:33.674013",
     "exception": false,
     "start_time": "2021-08-31T05:07:24.919092",
     "status": "completed"
    },
    "tags": []
   }
  },
  {
   "cell_type": "markdown",
   "source": [
    "## Input Pre-Processing"
   ],
   "metadata": {
    "papermill": {
     "duration": 0.011765,
     "end_time": "2021-08-31T05:07:33.698206",
     "exception": false,
     "start_time": "2021-08-31T05:07:33.686441",
     "status": "completed"
    },
    "tags": []
   }
  },
  {
   "cell_type": "code",
   "execution_count": 2,
   "source": [
    "# Define input parameters:\r\n",
    "MAX_LEN = 250\r\n",
    "NUM_PRED = 1"
   ],
   "outputs": [],
   "metadata": {
    "execution": {
     "iopub.execute_input": "2021-08-31T05:07:33.727646Z",
     "iopub.status.busy": "2021-08-31T05:07:33.726947Z",
     "iopub.status.idle": "2021-08-31T05:07:33.729561Z",
     "shell.execute_reply": "2021-08-31T05:07:33.730089Z",
     "shell.execute_reply.started": "2021-08-31T05:06:25.795323Z"
    },
    "papermill": {
     "duration": 0.020078,
     "end_time": "2021-08-31T05:07:33.730275",
     "exception": false,
     "start_time": "2021-08-31T05:07:33.710197",
     "status": "completed"
    },
    "tags": []
   }
  },
  {
   "cell_type": "code",
   "execution_count": 3,
   "source": [
    "# Processes each chunk of tokenized text so it can be 'understood' by BERT:\r\n",
    "def process_chunks(id_chunk, mask_chunk, max_len, start_id=101, end_id=102):\r\n",
    "  # Add start and stop IDs:\r\n",
    "  id_chunk = torch.cat([torch.tensor([start_id]), id_chunk, torch.tensor([end_id])])\r\n",
    "  mask_chunk = torch.cat([torch.ones(1), mask_chunk, torch.ones(1)])\r\n",
    "  # Pad chunks so that they're all of the same length:\r\n",
    "  if len(id_chunk) < max_len:\r\n",
    "    pad_len = max_len - len(id_chunk)\r\n",
    "    id_chunk = torch.cat([id_chunk, torch.zeros(pad_len)])\r\n",
    "    mask_chunk = torch.cat([mask_chunk, torch.zeros(pad_len)])\r\n",
    "  return (id_chunk, mask_chunk)\r\n",
    "\r\n",
    "# Divides up each piece of text into chunks of size max_len then tokenizes them:\r\n",
    "def tokenise_chunks(features, tokenizer, max_len):\r\n",
    "  X_id, X_mask = [], []\r\n",
    "  for text in features[\"excerpt\"]:\r\n",
    "    id_list, mask_list = [], []\r\n",
    "    # Encode piece of text:\r\n",
    "    tokens = tokenizer.encode_plus(text, add_special_tokens=False, return_tensors='pt')\r\n",
    "    # Split ID and attention mask into chunks of size (max_len-2) - note we need to add\r\n",
    "    # a start and end token to these chunks:\r\n",
    "    ids = tokens[\"input_ids\"][0].split(max_len-2)\r\n",
    "    masks = tokens[\"attention_mask\"][0].split(max_len-2)\r\n",
    "    # Add start and end token to each chunk:\r\n",
    "    for id_chunk, mask_chunk in zip(ids, masks):\r\n",
    "      id_chunk, mask_chunk = process_chunks(id_chunk, mask_chunk, max_len)\r\n",
    "      id_list.append(id_chunk), mask_list.append(mask_chunk)\r\n",
    "    X_id.append(torch.stack(id_list, dim=0))\r\n",
    "    X_mask.append(torch.stack(mask_list, dim=0))\r\n",
    "  # Pad list of IDs and Masks so that they're now both stored in a single tensor\r\n",
    "  # of dimensions (batch size × num of chunks × num of mask/id values):\r\n",
    "  X_id = pad_sequence(X_id, batch_first=True, padding_value=0)\r\n",
    "  X_mask = pad_sequence(X_mask, batch_first=True, padding_value=0)\r\n",
    "  X_id, X_mask = torch.as_tensor(X_id, dtype=torch.int64), torch.as_tensor(X_mask, dtype=torch.int64)\r\n",
    "  return (X_id, X_mask)"
   ],
   "outputs": [],
   "metadata": {
    "execution": {
     "iopub.execute_input": "2021-08-31T05:07:33.769181Z",
     "iopub.status.busy": "2021-08-31T05:07:33.767916Z",
     "iopub.status.idle": "2021-08-31T05:07:33.771482Z",
     "shell.execute_reply": "2021-08-31T05:07:33.770828Z",
     "shell.execute_reply.started": "2021-08-31T05:06:25.804278Z"
    },
    "papermill": {
     "duration": 0.029071,
     "end_time": "2021-08-31T05:07:33.771621",
     "exception": false,
     "start_time": "2021-08-31T05:07:33.742550",
     "status": "completed"
    },
    "tags": []
   }
  },
  {
   "cell_type": "code",
   "execution_count": 4,
   "source": [
    "# Custom PyTorch Dataset class\r\n",
    "class ReadabilityData(Dataset):\r\n",
    "    def __init__(self, data):\r\n",
    "        self.data = data\r\n",
    "        \r\n",
    "    def __len__(self):\r\n",
    "        return len(self.data)\r\n",
    "\r\n",
    "    def __getitem__(self, idx):\r\n",
    "        item_i = self.data[idx]\r\n",
    "        dict_i = {\"id\": item_i[0],\r\n",
    "                  \"mask\": item_i[1], \r\n",
    "                  \"wt\": item_i[2]}\r\n",
    "        return dict_i"
   ],
   "outputs": [],
   "metadata": {
    "execution": {
     "iopub.execute_input": "2021-08-31T05:07:33.798837Z",
     "iopub.status.busy": "2021-08-31T05:07:33.798219Z",
     "iopub.status.idle": "2021-08-31T05:07:33.805208Z",
     "shell.execute_reply": "2021-08-31T05:07:33.804659Z",
     "shell.execute_reply.started": "2021-08-31T05:06:25.821586Z"
    },
    "papermill": {
     "duration": 0.021569,
     "end_time": "2021-08-31T05:07:33.805365",
     "exception": false,
     "start_time": "2021-08-31T05:07:33.783796",
     "status": "completed"
    },
    "tags": []
   }
  },
  {
   "cell_type": "code",
   "execution_count": 5,
   "source": [
    "# For creating the test dataset:\r\n",
    "#    - dataset output includes X_id, X_mask, and y\r\n",
    "#    - X_id and X_mask are ([batch size*num of chunks] × num of mask/id values)\r\n",
    "#    - y is ([batch size*num of chunks] × num of outputs)\r\n",
    "def create_test_dataset(test_features, tokenizer, max_len):\r\n",
    "  # Split text into chunks and tokenise those chunks:\r\n",
    "  X_id, X_mask = tokenise_chunks(test_features, tokenizer, max_len)\r\n",
    "  # Compute weightings for the sentence chunks:\r\n",
    "  X_wts = torch.sum(X_mask, axis=2, keepdim=True)/torch.sum(X_mask, axis=(1,2), keepdim=True)\r\n",
    "  X_wts = X_wts.reshape(X_mask.shape[0:-1])\r\n",
    "  X_wts = torch.as_tensor(X_wts, dtype=torch.float32)\r\n",
    "  # Place tensors into TensorDataset object:\r\n",
    "  test_dataset = TensorDataset(X_id, X_mask, X_wts)\r\n",
    "  # Create Dataset object:\r\n",
    "  test_dataset = ReadabilityData(test_dataset)\r\n",
    "  return test_dataset"
   ],
   "outputs": [],
   "metadata": {
    "execution": {
     "iopub.execute_input": "2021-08-31T05:07:33.836831Z",
     "iopub.status.busy": "2021-08-31T05:07:33.836165Z",
     "iopub.status.idle": "2021-08-31T05:07:33.838245Z",
     "shell.execute_reply": "2021-08-31T05:07:33.838707Z",
     "shell.execute_reply.started": "2021-08-31T05:06:25.836114Z"
    },
    "papermill": {
     "duration": 0.021392,
     "end_time": "2021-08-31T05:07:33.838888",
     "exception": false,
     "start_time": "2021-08-31T05:07:33.817496",
     "status": "completed"
    },
    "tags": []
   }
  },
  {
   "cell_type": "markdown",
   "source": [
    "## Define Bert Model"
   ],
   "metadata": {
    "papermill": {
     "duration": 0.011822,
     "end_time": "2021-08-31T05:07:33.863124",
     "exception": false,
     "start_time": "2021-08-31T05:07:33.851302",
     "status": "completed"
    },
    "tags": []
   }
  },
  {
   "cell_type": "code",
   "execution_count": 6,
   "source": [
    "class BertModel():\r\n",
    "    def __init__(self, load_dir, num_pred):\r\n",
    "        self.num_pred = num_pred\r\n",
    "        # Load fine-tuned Bert model:\r\n",
    "        self.model = DistilBertForSequenceClassification.from_pretrained(load_dir)\r\n",
    "        \r\n",
    "    def predict(self, id, att_mask, wt):\r\n",
    "        with torch.no_grad():\r\n",
    "            if self.model.training:\r\n",
    "              self.model.eval()\r\n",
    "            # Compute input and output shapes:\r\n",
    "            in_shape = (id.shape[0]*id.shape[1], id.shape[2])\r\n",
    "            out_shape = id.shape[0:-1] + (self.num_pred,)\r\n",
    "            id, att_mask = id.reshape(in_shape), att_mask.reshape(in_shape)\r\n",
    "            # Make prediction with BERT model:\r\n",
    "            logits = self.model(input_ids=id, attention_mask=att_mask)[\"logits\"]\r\n",
    "            # Convert output to NumPy array so that we can use nan_to_num:\r\n",
    "            logits = logits.reshape(out_shape).numpy()\r\n",
    "            # Take weighted-average of BERT predictions for each chunk of text:\r\n",
    "            pred = np.einsum(\"ij,ijk->ik\", wt, np.nan_to_num(logits))\r\n",
    "            pred = pred.squeeze()\r\n",
    "        return pred"
   ],
   "outputs": [],
   "metadata": {
    "execution": {
     "iopub.execute_input": "2021-08-31T05:07:33.890219Z",
     "iopub.status.busy": "2021-08-31T05:07:33.889562Z",
     "iopub.status.idle": "2021-08-31T05:07:33.897651Z",
     "shell.execute_reply": "2021-08-31T05:07:33.898197Z",
     "shell.execute_reply.started": "2021-08-31T05:06:25.851666Z"
    },
    "papermill": {
     "duration": 0.023146,
     "end_time": "2021-08-31T05:07:33.898372",
     "exception": false,
     "start_time": "2021-08-31T05:07:33.875226",
     "status": "completed"
    },
    "tags": []
   }
  },
  {
   "cell_type": "markdown",
   "source": [
    "## Load Pre-Trained Model"
   ],
   "metadata": {
    "papermill": {
     "duration": 0.012135,
     "end_time": "2021-08-31T05:07:33.922782",
     "exception": false,
     "start_time": "2021-08-31T05:07:33.910647",
     "status": "completed"
    },
    "tags": []
   }
  },
  {
   "cell_type": "code",
   "execution_count": 7,
   "source": [
    "load_dir = \"../input/finetuned-bert-readability/best_model\"\r\n",
    "bert_model = BertModel(load_dir, NUM_PRED)"
   ],
   "outputs": [],
   "metadata": {
    "execution": {
     "iopub.execute_input": "2021-08-31T05:07:33.951225Z",
     "iopub.status.busy": "2021-08-31T05:07:33.950560Z",
     "iopub.status.idle": "2021-08-31T05:07:37.479757Z",
     "shell.execute_reply": "2021-08-31T05:07:37.480343Z",
     "shell.execute_reply.started": "2021-08-31T05:06:25.864415Z"
    },
    "papermill": {
     "duration": 3.545118,
     "end_time": "2021-08-31T05:07:37.480609",
     "exception": false,
     "start_time": "2021-08-31T05:07:33.935491",
     "status": "completed"
    },
    "tags": []
   }
  },
  {
   "cell_type": "markdown",
   "source": [
    "## Make Predictions"
   ],
   "metadata": {
    "papermill": {
     "duration": 0.012212,
     "end_time": "2021-08-31T05:07:37.508195",
     "exception": false,
     "start_time": "2021-08-31T05:07:37.495983",
     "status": "completed"
    },
    "tags": []
   }
  },
  {
   "cell_type": "code",
   "execution_count": 8,
   "source": [
    "# Load test data:\r\n",
    "test_df = pd.read_csv(\"../input/commonlitreadabilityprize/test.csv\")\r\n",
    "test_df = test_df.loc[:,[\"id\", \"excerpt\"]]\r\n",
    "\r\n",
    "# Tokenize the text in this test dataset:\r\n",
    "tokenizer = DistilBertTokenizer.from_pretrained(\"../input/finetuned-bert-readability/tokenizer\")\r\n",
    "test_dataset = create_test_dataset(test_df, tokenizer, MAX_LEN)\r\n",
    "\r\n",
    "# Drop text now that it's tokenized:\r\n",
    "test_df.drop(columns=\"excerpt\", inplace=True)\r\n",
    "\r\n",
    "# Place tokenized dataset into Dataloader:\r\n",
    "test_dataloader = DataLoader(test_dataset,\r\n",
    "                             batch_size=32,\r\n",
    "                             shuffle=False)\r\n",
    "\r\n",
    "# Make predictions:\r\n",
    "pred_list = np.array([])\r\n",
    "for d in test_dataloader:\r\n",
    "    pred = bert_model.predict(d[\"id\"],\r\n",
    "                              d[\"mask\"],\r\n",
    "                              d[\"wt\"])\r\n",
    "    pred_list = np.concatenate((pred_list, pred), axis=0)\r\n",
    "\r\n",
    "# Add predictions to test dataframe:\r\n",
    "test_df[\"target\"] = np.array(pred_list)\r\n",
    "# Save ids and predictions to csv file:\r\n",
    "test_df.to_csv(\"submission.csv\", index=False)"
   ],
   "outputs": [],
   "metadata": {
    "execution": {
     "iopub.execute_input": "2021-08-31T05:07:37.537291Z",
     "iopub.status.busy": "2021-08-31T05:07:37.536624Z",
     "iopub.status.idle": "2021-08-31T05:07:39.357340Z",
     "shell.execute_reply": "2021-08-31T05:07:39.356472Z",
     "shell.execute_reply.started": "2021-08-31T05:06:31.121683Z"
    },
    "papermill": {
     "duration": 1.836973,
     "end_time": "2021-08-31T05:07:39.357532",
     "exception": false,
     "start_time": "2021-08-31T05:07:37.520559",
     "status": "completed"
    },
    "tags": []
   }
  },
  {
   "cell_type": "code",
   "execution_count": 9,
   "source": [
    "test_df"
   ],
   "outputs": [
    {
     "output_type": "execute_result",
     "data": {
      "text/html": [
       "<div>\n",
       "<style scoped>\n",
       "    .dataframe tbody tr th:only-of-type {\n",
       "        vertical-align: middle;\n",
       "    }\n",
       "\n",
       "    .dataframe tbody tr th {\n",
       "        vertical-align: top;\n",
       "    }\n",
       "\n",
       "    .dataframe thead th {\n",
       "        text-align: right;\n",
       "    }\n",
       "</style>\n",
       "<table border=\"1\" class=\"dataframe\">\n",
       "  <thead>\n",
       "    <tr style=\"text-align: right;\">\n",
       "      <th></th>\n",
       "      <th>id</th>\n",
       "      <th>target</th>\n",
       "    </tr>\n",
       "  </thead>\n",
       "  <tbody>\n",
       "    <tr>\n",
       "      <th>0</th>\n",
       "      <td>c0f722661</td>\n",
       "      <td>-0.152462</td>\n",
       "    </tr>\n",
       "    <tr>\n",
       "      <th>1</th>\n",
       "      <td>f0953f0a5</td>\n",
       "      <td>0.084220</td>\n",
       "    </tr>\n",
       "    <tr>\n",
       "      <th>2</th>\n",
       "      <td>0df072751</td>\n",
       "      <td>-0.219362</td>\n",
       "    </tr>\n",
       "    <tr>\n",
       "      <th>3</th>\n",
       "      <td>04caf4e0c</td>\n",
       "      <td>-2.287382</td>\n",
       "    </tr>\n",
       "    <tr>\n",
       "      <th>4</th>\n",
       "      <td>0e63f8bea</td>\n",
       "      <td>-1.792509</td>\n",
       "    </tr>\n",
       "    <tr>\n",
       "      <th>5</th>\n",
       "      <td>12537fe78</td>\n",
       "      <td>-0.871888</td>\n",
       "    </tr>\n",
       "    <tr>\n",
       "      <th>6</th>\n",
       "      <td>965e592c0</td>\n",
       "      <td>0.273297</td>\n",
       "    </tr>\n",
       "  </tbody>\n",
       "</table>\n",
       "</div>"
      ],
      "text/plain": [
       "          id    target\n",
       "0  c0f722661 -0.152462\n",
       "1  f0953f0a5  0.084220\n",
       "2  0df072751 -0.219362\n",
       "3  04caf4e0c -2.287382\n",
       "4  0e63f8bea -1.792509\n",
       "5  12537fe78 -0.871888\n",
       "6  965e592c0  0.273297"
      ]
     },
     "metadata": {},
     "execution_count": 9
    }
   ],
   "metadata": {
    "execution": {
     "iopub.execute_input": "2021-08-31T05:07:39.390839Z",
     "iopub.status.busy": "2021-08-31T05:07:39.390148Z",
     "iopub.status.idle": "2021-08-31T05:07:39.410850Z",
     "shell.execute_reply": "2021-08-31T05:07:39.410226Z",
     "shell.execute_reply.started": "2021-08-31T05:06:33.319383Z"
    },
    "papermill": {
     "duration": 0.039636,
     "end_time": "2021-08-31T05:07:39.411024",
     "exception": false,
     "start_time": "2021-08-31T05:07:39.371388",
     "status": "completed"
    },
    "tags": []
   }
  }
 ],
 "metadata": {
  "kernelspec": {
   "display_name": "Python 3",
   "language": "python",
   "name": "python3"
  },
  "language_info": {
   "codemirror_mode": {
    "name": "ipython",
    "version": 3
   },
   "file_extension": ".py",
   "mimetype": "text/x-python",
   "name": "python",
   "nbconvert_exporter": "python",
   "pygments_lexer": "ipython3",
   "version": "3.7.10"
  },
  "papermill": {
   "default_parameters": {},
   "duration": 25.88473,
   "end_time": "2021-08-31T05:07:41.653491",
   "environment_variables": {},
   "exception": null,
   "input_path": "__notebook__.ipynb",
   "output_path": "__notebook__.ipynb",
   "parameters": {},
   "start_time": "2021-08-31T05:07:15.768761",
   "version": "2.3.3"
  }
 },
 "nbformat": 4,
 "nbformat_minor": 5
}